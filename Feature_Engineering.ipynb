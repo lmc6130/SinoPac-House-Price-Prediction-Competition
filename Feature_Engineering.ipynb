{
  "nbformat": 4,
  "nbformat_minor": 0,
  "metadata": {
    "colab": {
      "provenance": []
    },
    "kernelspec": {
      "name": "python3",
      "display_name": "Python 3"
    },
    "language_info": {
      "name": "python"
    }
  },
  "cells": [
    {
      "cell_type": "markdown",
      "source": [
        "# Import"
      ],
      "metadata": {
        "id": "nOHKsy4OMwk2"
      }
    },
    {
      "cell_type": "code",
      "source": [
        "import matplotlib.pyplot as plt\n",
        "import numpy as np\n",
        "import pandas as pd\n",
        "import seaborn as sns\n",
        "from google.colab import drive\n",
        "from sklearn.linear_model import LinearRegression\n",
        "from sklearn.metrics import mean_absolute_percentage_error\n",
        "from sklearn.model_selection import train_test_split\n",
        "from sklearn.preprocessing import StandardScaler, LabelEncoder\n",
        "from xgboost import XGBRegressor\n"
      ],
      "metadata": {
        "id": "94szK70bMyuc"
      },
      "execution_count": null,
      "outputs": []
    },
    {
      "cell_type": "markdown",
      "source": [
        "# Google鏈接"
      ],
      "metadata": {
        "id": "VdAmyIMaM9Fo"
      }
    },
    {
      "cell_type": "code",
      "source": [
        "drive.mount('/content/drive')"
      ],
      "metadata": {
        "colab": {
          "base_uri": "https://localhost:8080/"
        },
        "id": "yFz7Tpe0NCRH",
        "outputId": "3da5635e-04e8-4f51-f71e-35a65a733bd6"
      },
      "execution_count": null,
      "outputs": [
        {
          "output_type": "stream",
          "name": "stdout",
          "text": [
            "Mounted at /content/drive\n"
          ]
        }
      ]
    },
    {
      "cell_type": "code",
      "source": [
        "train_v2 = pd.read_csv('/content/drive/MyDrive/SinoPac/public_dataset_v1017.csv')"
      ],
      "metadata": {
        "id": "7Y5PLGzRNHaS"
      },
      "execution_count": null,
      "outputs": []
    },
    {
      "cell_type": "markdown",
      "source": [
        "# 坐標轉換（TWD97_to_WGS84）"
      ],
      "metadata": {
        "id": "i7HORboTMeHH"
      }
    },
    {
      "cell_type": "code",
      "source": [
        "import math\n",
        "\n",
        "def twd97_to_lonlat(x, y):\n",
        "    a = 6378137\n",
        "    b = 6356752.314245\n",
        "    long_0 = 121 * math.pi / 180.0\n",
        "    k0 = 0.9999\n",
        "    dx = 250000\n",
        "    dy = 0\n",
        "\n",
        "    e = math.sqrt((1 - (b ** 2) / (a ** 2)))\n",
        "\n",
        "    x -= dx\n",
        "    y -= dy\n",
        "\n",
        "    M = y / k0\n",
        "\n",
        "    mu = M / (a * (1 - (e ** 2) / 4 - 3 * (e ** 4) / 64 - 5 * (e ** 6) / 256))\n",
        "    e1 = (1.0 - ((1 - e ** 2) ** 0.5)) / (1.0 + ((1 - e ** 2) ** 0.5))\n",
        "\n",
        "    j1 = 3 * e1 / 2 - 27 * (e1 ** 3) / 32\n",
        "    j2 = 21 * (e1 ** 2) / 16 - 55 * (e1 ** 4) / 32\n",
        "    j3 = 151 * (e1 ** 3) / 96\n",
        "    j4 = 1097 * (e1 ** 4) / 512\n",
        "\n",
        "    fp = mu + j1 * math.sin(2 * mu) + j2 * math.sin(4 * mu) + j3 * math.sin(6 * mu) + j4 * math.sin(8 * mu)\n",
        "\n",
        "    e2 = (e * a / b) ** 2\n",
        "    c1 = (e2 * math.cos(fp)) ** 2\n",
        "    t1 = math.tan(fp) ** 2\n",
        "    r1 = a * (1 - e ** 2) / ((1 - e ** 2 * (math.sin(fp) ** 2)) ** 1.5)\n",
        "    n1 = a / ((1 - e ** 2 * (math.sin(fp) ** 2)) ** 0.5)\n",
        "    d = x / (n1 * k0)\n",
        "\n",
        "    q1 = n1 * math.tan(fp) / r1\n",
        "    q2 = d ** 2 / 2\n",
        "    q3 = (5 + 3 * t1 + 10 * c1 - 4 * (c1 ** 2) - 9 * e2) * (d ** 4) / 24\n",
        "    q4 = (61 + 90 * t1 + 298 * c1 + 45 * (t1 ** 2) - 3 * (c1 ** 2) - 252 * e2) * (d ** 6) / 720\n",
        "    lat = fp - q1 * (q2 - q3 + q4)\n",
        "\n",
        "    q5 = d\n",
        "    q6 = (1 + 2 * t1 + c1) * (d ** 3) / 6\n",
        "    q7 = (5 - 2 * c1 + 28 * t1 - 3 * (c1 ** 2) + 8 * e2 + 24 * (t1 ** 2)) * (d ** 5) / 120\n",
        "    lon = long_0 + (q5 - q6 + q7) / math.cos(fp)\n",
        "\n",
        "    lat = (lat * 180) / math.pi\n",
        "    lon = (lon * 180) / math.pi\n",
        "    return [lon, lat]\n",
        "\n",
        "result = twd97_to_lonlat(305266, 2768378)\n",
        "print(\"经度 (longitude):\", result[0])\n",
        "print(\"纬度 (latitude):\", result[1])\n"
      ],
      "metadata": {
        "colab": {
          "base_uri": "https://localhost:8080/"
        },
        "id": "cFYlzo8YMCbm",
        "outputId": "7cb0ffb6-8835-4a1f-a996-70b1434e83f1"
      },
      "execution_count": null,
      "outputs": [
        {
          "output_type": "stream",
          "name": "stdout",
          "text": [
            "经度 (longitude): 121.54760767694441\n",
            "纬度 (latitude): 25.022469126806683\n"
          ]
        }
      ]
    },
    {
      "cell_type": "code",
      "source": [
        "# 读取原始CSV文件\n",
        "df = pd.read_csv('/content/drive/MyDrive/SinoPac/public_dataset_v1017.csv')\n",
        "\n",
        "# 定义一个转换函数\n",
        "def convert_coordinates(row):\n",
        "    x = row['橫坐標']  # 替换为实际的列名\n",
        "    y = row['縱坐標']  # 替换为实际的列名\n",
        "\n",
        "    # 在这里使用你的坐标转换函数（如前面提到的'twd97_to_lonlat'函数）\n",
        "    result = twd97_to_lonlat(x, y)\n",
        "\n",
        "    # 将经度和纬度添加到新列中\n",
        "    row['lng'] = result[0]\n",
        "    row['lat'] = result[1]\n",
        "\n",
        "    return row\n",
        "\n",
        "# 使用apply函数应用转换函数到每一行\n",
        "df = df.apply(convert_coordinates, axis=1)\n",
        "\n",
        "# 将结果写回到原始CSV文件\n",
        "df.to_csv('/content/drive/MyDrive/SinoPac/public_dataset_v1017.csv', index=False)\n"
      ],
      "metadata": {
        "id": "l03KpM2kMru5"
      },
      "execution_count": null,
      "outputs": []
    },
    {
      "cell_type": "markdown",
      "source": [
        "# 計算距離"
      ],
      "metadata": {
        "id": "z08We2S8Zo8P"
      }
    },
    {
      "cell_type": "code",
      "source": [
        "# Install package\n",
        "! pip install geopy"
      ],
      "metadata": {
        "colab": {
          "base_uri": "https://localhost:8080/"
        },
        "id": "CvynAAhPm2Wq",
        "outputId": "b50ddaa2-e8f2-4b4f-9a4b-efdf2ff45a79"
      },
      "execution_count": null,
      "outputs": [
        {
          "output_type": "stream",
          "name": "stdout",
          "text": [
            "Requirement already satisfied: geopy in /usr/local/lib/python3.10/dist-packages (2.3.0)\n",
            "Requirement already satisfied: geographiclib<3,>=1.52 in /usr/local/lib/python3.10/dist-packages (from geopy) (2.0)\n"
          ]
        }
      ]
    },
    {
      "cell_type": "code",
      "source": [
        "from geopy.distance import great_circle"
      ],
      "metadata": {
        "id": "ltd5elf8nAaF"
      },
      "execution_count": null,
      "outputs": []
    },
    {
      "cell_type": "code",
      "source": [
        "# 读取原始CSV文件\n",
        "df_ATM = pd.read_csv('/content/drive/MyDrive/SinoPac/30_Training Dataset_V2/external_data/ATM資料.csv')\n",
        "df= pd.read_csv('/content/drive/MyDrive/SinoPac/public_dataset_v1017.csv')\n",
        "df_bank = pd.read_csv('/content/drive/MyDrive/SinoPac/30_Training Dataset_V2/external_data/金融機構基本資料.csv')\n",
        "df_lrt = pd.read_csv('/content/drive/MyDrive/SinoPac/30_Training Dataset_V2/external_data/捷運站點資料.csv')\n",
        "df_bic = pd.read_csv('/content/drive/MyDrive/SinoPac/30_Training Dataset_V2/external_data/腳踏車站點資料.csv')\n",
        "df_shop = pd.read_csv('/content/drive/MyDrive/SinoPac/30_Training Dataset_V2/external_data/便利商店.csv')\n",
        "df_shop.dropna(subset=['lat'], inplace=True)"
      ],
      "metadata": {
        "id": "yRBvAQATZrhV"
      },
      "execution_count": null,
      "outputs": []
    },
    {
      "cell_type": "code",
      "source": [
        "# 用于存储在10公里范围内的ATM数量\n",
        "bank_count = []\n",
        "\n",
        "# 遍历每个住户\n",
        "for index, df_row in df.iterrows():\n",
        "    household_location = (df_row['lat'], df_row['lng'])\n",
        "\n",
        "    # 初始化10公里范围内的ATM数量\n",
        "    count_within_10km = 0\n",
        "\n",
        "    # 遍历每个ATM\n",
        "    for _, bank_row in df_bank.iterrows():\n",
        "        bank_location = (bank_row['lat'], bank_row['lng'])\n",
        "\n",
        "        # 计算住户与ATM之间的距离\n",
        "        distance = great_circle(household_location, bank_location).kilometers\n",
        "\n",
        "        # 如果距离小于等于10公里，增加计数\n",
        "        if distance <= 10:\n",
        "            count_within_10km += 1\n",
        "\n",
        "    # 添加该住户的结果到列表中\n",
        "    bank_count.append(count_within_10km)\n",
        "\n",
        "# 创建一个新列，将住户周围10公里内的ATM数量添加到DataFrame\n",
        "df['Bank Count within 10km'] = bank_count\n",
        "\n",
        "# 将结果写入到CSV文件\n",
        "df.to_csv('/content/drive/MyDrive/SinoPac/public_dataset_v1017.csv', index=False)\n"
      ],
      "metadata": {
        "id": "ebEJySIimtep"
      },
      "execution_count": null,
      "outputs": []
    },
    {
      "cell_type": "code",
      "source": [
        "# 用于存储在10公里范围内的ATM数量\n",
        "atm_count = []\n",
        "\n",
        "# 遍历每个住户\n",
        "for index, df_row in df.iterrows():\n",
        "    household_location = (df_row['lat'], df_row['lng'])\n",
        "\n",
        "    # 初始化10公里范围内的ATM数量\n",
        "    count_within_10km = 0\n",
        "\n",
        "    # 遍历每个ATM\n",
        "    for _, atm_row in df_ATM.iterrows():\n",
        "        atm_location = (atm_row['lat'], atm_row['lng'])\n",
        "\n",
        "        # 计算住户与ATM之间的距离\n",
        "        distance = great_circle(household_location, atm_location).kilometers\n",
        "\n",
        "        # 如果距离小于等于10公里，增加计数\n",
        "        if distance <= 10:\n",
        "            count_within_10km += 1\n",
        "\n",
        "    # 添加该住户的结果到列表中\n",
        "    atm_count.append(count_within_10km)\n",
        "\n",
        "# 创建一个新列，将住户周围10公里内的ATM数量添加到DataFrame\n",
        "df['ATM Count within 10km'] = atm_count\n",
        "\n",
        "# 将结果写入到CSV文件\n",
        "df.to_csv('/content/drive/MyDrive/SinoPac/public_dataset_v1017.csv', index=False)"
      ],
      "metadata": {
        "id": "XLHwZnQJZWlK"
      },
      "execution_count": null,
      "outputs": []
    },
    {
      "cell_type": "code",
      "source": [
        "# 用于存储每个住户到最近捷运站的距离\n",
        "nearest_metro_distances = []\n",
        "\n",
        "# 遍历每个住户\n",
        "for index, household_row in df.iterrows():\n",
        "    household_location = (household_row['lat'], household_row['lng'])\n",
        "\n",
        "    # 初始化最短距离和最近捷运站\n",
        "    min_distance = float('inf')\n",
        "    nearest_metro = None\n",
        "\n",
        "    # 遍历每个捷运站\n",
        "    for _, metro_station_row in df_lrt.iterrows():\n",
        "        metro_station_location = (metro_station_row['lat'], metro_station_row['lng'])\n",
        "\n",
        "        # 计算住户与捷运站之间的距离\n",
        "        distance = great_circle(household_location, metro_station_location).kilometers\n",
        "\n",
        "        # 如果找到更短的距离，更新最短距离和最近捷运站\n",
        "        if distance < min_distance:\n",
        "            min_distance = distance\n",
        "            nearest_metro = metro_station_row['站點名稱']\n",
        "\n",
        "    # 存储最近捷运站的距离\n",
        "    nearest_metro_distances.append(min_distance)\n",
        "\n",
        "# 创建一个新列，将每个住户到最近捷运站的距离添加到DataFrame\n",
        "df['Nearest Metro Distance (km)'] = nearest_metro_distances\n",
        "\n",
        "# 将结果写入到住户的CSV文件\n",
        "df.to_csv('/content/drive/MyDrive/SinoPac/public_dataset_v1017.csv', index=False)"
      ],
      "metadata": {
        "id": "Gy1KoNfryEKh"
      },
      "execution_count": null,
      "outputs": []
    },
    {
      "cell_type": "code",
      "source": [
        "# 用于存储每个住户到最近捷运站的距离\n",
        "nearest_bic_distances = []\n",
        "\n",
        "# 遍历每个住户\n",
        "for index, household_row in df.iterrows():\n",
        "    household_location = (household_row['lat'], household_row['lng'])\n",
        "\n",
        "    # 初始化最短距离和最近捷运站\n",
        "    min_distance = float('inf')\n",
        "    nearest_bic = None\n",
        "\n",
        "    # 遍历每个捷运站\n",
        "    for _, metro_bic_row in df_bic.iterrows():\n",
        "        metro_bic_location = (metro_bic_row['lat'], metro_bic_row['lng'])\n",
        "\n",
        "        # 计算住户与捷运站之间的距离\n",
        "        distance = great_circle(household_location, metro_bic_location).kilometers\n",
        "\n",
        "        # 如果找到更短的距离，更新最短距离和最近捷运站\n",
        "        if distance < min_distance:\n",
        "            min_distance = distance\n",
        "            nearest_bic = metro_bic_row['站點名稱']\n",
        "\n",
        "    # 存储最近捷运站的距离\n",
        "    nearest_bic_distances.append(min_distance)\n",
        "\n",
        "# 创建一个新列，将每个住户到最近捷运站的距离添加到DataFrame\n",
        "df['Nearest Bic Distance (km)'] = nearest_bic_distances\n",
        "\n",
        "# 将结果写入到住户的CSV文件\n",
        "df.to_csv('/content/drive/MyDrive/SinoPac/public_dataset_v1017.csv', index=False)"
      ],
      "metadata": {
        "id": "SHprubXR0nv1"
      },
      "execution_count": null,
      "outputs": []
    },
    {
      "cell_type": "code",
      "source": [
        "# 用于存储每个住户到最近捷运站的距离\n",
        "nearest_shop_distances = []\n",
        "\n",
        "# 遍历每个住户\n",
        "for index, household_row in df.iterrows():\n",
        "    household_location = (household_row['lat'], household_row['lng'])\n",
        "\n",
        "    # 初始化最短距离和最近捷运站\n",
        "    min_distance = float('inf')\n",
        "    nearest_shop = None\n",
        "\n",
        "    # 遍历每个捷运站\n",
        "    for _, metro_shop_row in df_shop.iterrows():\n",
        "        metro_shop_location = (metro_shop_row['lat'], metro_shop_row['lng'])\n",
        "\n",
        "        # 计算住户与捷运站之间的距离\n",
        "        distance = great_circle(household_location, metro_shop_location).kilometers\n",
        "\n",
        "        # 如果找到更短的距离，更新最短距离和最近捷运站\n",
        "        if distance < min_distance:\n",
        "            min_distance = distance\n",
        "            nearest_shop = metro_shop_row['公司名稱']\n",
        "\n",
        "    # 存储最近捷运站的距离\n",
        "    nearest_shop_distances.append(min_distance)\n",
        "\n",
        "# 创建一个新列，将每个住户到最近捷运站的距离添加到DataFrame\n",
        "df['Nearest shop Distance (km)'] = nearest_shop_distances\n",
        "\n",
        "# 将结果写入到住户的CSV文件\n",
        "df.to_csv('/content/drive/MyDrive/SinoPac/public_dataset_v1017.csv', index=False)"
      ],
      "metadata": {
        "id": "RZnBR1jgM6sY"
      },
      "execution_count": null,
      "outputs": []
    },
    {
      "cell_type": "code",
      "source": [
        "# 用于存储在1公里范围内的ATM数量\n",
        "shop_count = []\n",
        "\n",
        "# 遍历每个住户\n",
        "for index, df_row in df.iterrows():\n",
        "    household_location = (df_row['lat'], df_row['lng'])\n",
        "\n",
        "    # 初始化10公里范围内的ATM数量\n",
        "    count_within_1km = 0\n",
        "\n",
        "    # 遍历每个ATM\n",
        "    for _, shop_row in df_shop.iterrows():\n",
        "        shop_location = (shop_row['lat'], shop_row['lng'])\n",
        "\n",
        "        # 计算住户与ATM之间的距离\n",
        "        distance = great_circle(household_location, shop_location).kilometers\n",
        "\n",
        "        # 如果距离小于等于10公里，增加计数\n",
        "        if distance <= 1:\n",
        "            count_within_1km += 1\n",
        "\n",
        "    # 添加该住户的结果到列表中\n",
        "    shop_count.append(count_within_1km)\n",
        "\n",
        "# 创建一个新列，将住户周围10公里内的ATM数量添加到DataFrame\n",
        "df['Shop Count within 1km'] = shop_count\n",
        "\n",
        "# 将结果写入到CSV文件\n",
        "df.to_csv('/content/drive/MyDrive/SinoPac/public_dataset_v1017.csv', index=False)"
      ],
      "metadata": {
        "id": "2Qr-UqMbU-6E"
      },
      "execution_count": null,
      "outputs": []
    },
    {
      "cell_type": "code",
      "execution_count": null,
      "metadata": {
        "id": "HtTrAHnnGqsX"
      },
      "outputs": [],
      "source": [
        "from geopy.distance import geodesic\n",
        "\n",
        "# 住户坐标\n",
        "household_coords = (305266, 2768378)\n",
        "\n",
        "# 公司分店坐标\n",
        "company_coords = (24.9477031, 121.377818)\n",
        "\n",
        "# 计算两个坐标之间的距离\n",
        "distance = geodesic(household_coords, company_coords).kilometers\n",
        "\n",
        "print(f\"距离: {distance} 公里\")"
      ]
    }
  ]
}